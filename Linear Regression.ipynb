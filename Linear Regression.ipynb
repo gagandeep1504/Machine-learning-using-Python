{
 "cells": [
  {
   "cell_type": "code",
   "execution_count": 37,
   "metadata": {},
   "outputs": [
    {
     "name": "stdout",
     "output_type": "stream",
     "text": [
      "Weights:  [  -1.16924976 -237.18461486  518.30606657  309.04865826 -763.14121622\n",
      "  458.90999325   80.62441437  174.32183366  721.49712065   79.19307944]\n",
      "Intercept: 153.05827988224112\n"
     ]
    }
   ],
   "source": [
    "import matplotlib.pyplot as plt\n",
    "import numpy as np\n",
    "from sklearn import datasets, linear_model\n",
    "from sklearn.metrics import mean_squared_error\n",
    "#(['data', 'target', 'DESCR', 'feature_names', 'data_filename', 'target_filename'])\n",
    "diabetes = datasets.load_diabetes()\n",
    "#print(diabetes.DESCR)\n",
    "#:Attribute Information:\n",
    "#      - Age\n",
    "#     - Sex\n",
    "#      - Body mass index\n",
    "#      - Average blood pressure\n",
    "#      - S1\n",
    "#      - S2\n",
    "#      - S3\n",
    "#      - S4\n",
    "#      - S5\n",
    "#      - S6\n",
    "diabetes_X = diabetes.data\n",
    "\n",
    "diabetes_X_train = diabetes_X[:-30]\n",
    "diabetes_X_test = diabetes_X[-30:]\n",
    "\n",
    "diabetes_Y_train = diabetes.target[:-30]\n",
    "diabetes_Y_test = diabetes.target[-30:]\n",
    "\n",
    "model = linear_model.LinearRegression()\n",
    "\n",
    "model.fit(diabetes_X_train, diabetes_Y_train)\n",
    "\n",
    "diabetes_Y_predicted = model.predict(diabetes_X_test)\n",
    "\n",
    "#print(\"Mean squared error is :\", mean_squared _error(diabetes_Y_test, diabetes_Y_predicted))\n",
    "\n",
    "print(\"Weights: \",model.coef_)\n",
    "print(\"Intercept:\", model.intercept_)\n",
    "\n",
    "#plt.scatter(diabetes_X_test, diabetes_Y_test)\n",
    "#plt.plot(diabetes_X_test, diabetes_Y_predicted)\n",
    "#plt.show()\n",
    "\n",
    "\n",
    "\n"
   ]
  }
 ],
 "metadata": {
  "kernelspec": {
   "display_name": "Python 3",
   "language": "python",
   "name": "python3"
  },
  "language_info": {
   "codemirror_mode": {
    "name": "ipython",
    "version": 3
   },
   "file_extension": ".py",
   "mimetype": "text/x-python",
   "name": "python",
   "nbconvert_exporter": "python",
   "pygments_lexer": "ipython3",
   "version": "3.7.4"
  }
 },
 "nbformat": 4,
 "nbformat_minor": 2
}
